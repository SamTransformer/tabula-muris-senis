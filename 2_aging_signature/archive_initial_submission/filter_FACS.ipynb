{
 "cells": [
  {
   "cell_type": "code",
   "execution_count": 1,
   "metadata": {},
   "outputs": [
    {
     "name": "stderr",
     "output_type": "stream",
     "text": [
      "/home/martin/anaconda3/lib/python3.6/site-packages/sklearn/externals/joblib/__init__.py:15: DeprecationWarning: sklearn.externals.joblib is deprecated in 0.21 and will be removed in 0.23. Please import this functionality directly from joblib, which can be installed with: pip install joblib. If this warning is raised when loading pickled models, you may need to re-serialize those models with scikit-learn 0.21+.\n",
      "  warnings.warn(msg, category=DeprecationWarning)\n"
     ]
    },
    {
     "name": "stdout",
     "output_type": "stream",
     "text": [
      "scanpy==1.4.3 anndata==0.6.20 umap==0.3.8 numpy==1.16.4 scipy==1.2.1 pandas==0.25.0 scikit-learn==0.21.1 statsmodels==0.9.0 python-igraph==0.7.1 louvain==0.6.1 \n"
     ]
    }
   ],
   "source": [
    "import pandas as pd\n",
    "import matplotlib.pyplot as plt\n",
    "import numpy as np\n",
    "import seaborn as sns\n",
    "import scanpy.api as sc\n",
    "# from anndata import read_loom\n",
    "from anndata import read_h5ad\n",
    "sc.logging.print_versions()"
   ]
  },
  {
   "cell_type": "code",
   "execution_count": 2,
   "metadata": {},
   "outputs": [],
   "source": [
    "# Data path\n",
    "data_path = '/data3/martin/tms_gene_data'"
   ]
  },
  {
   "cell_type": "code",
   "execution_count": 3,
   "metadata": {},
   "outputs": [],
   "source": [
    "# Raw data (one of the previous version which \n",
    "# only differ from the official version by annotation)\n",
    "adata = read_h5ad(f\"{data_path}/tabula-muris-senis-facs-reannotated-except-for-marrow-lung-kidney.h5ad\")"
   ]
  },
  {
   "cell_type": "code",
   "execution_count": 4,
   "metadata": {},
   "outputs": [
    {
     "name": "stderr",
     "output_type": "stream",
     "text": [
      "/home/martin/anaconda3/lib/python3.6/site-packages/IPython/core/interactiveshell.py:3057: DtypeWarning: Columns (4,6,7,8) have mixed types. Specify dtype option on import or set low_memory=False.\n",
      "  interactivity=interactivity, compiler=compiler, result=result)\n"
     ]
    }
   ],
   "source": [
    "# Official annotation\n",
    "df_annotation = pd.read_csv(f\"{data_path}/tabula-muris-senis-facs-official-annotations.csv\",\n",
    "                            index_col = 0)\n",
    "df_annotation = df_annotation.loc[adata.obs.index]"
   ]
  },
  {
   "cell_type": "code",
   "execution_count": 5,
   "metadata": {},
   "outputs": [
    {
     "name": "stdout",
     "output_type": "stream",
     "text": [
      "new annotation matches with the old\n",
      "merge annotation\n"
     ]
    }
   ],
   "source": [
    "# Compare the annotation with the old one\n",
    "if np.sum((df_annotation.index != adata.obs.index))==0:\n",
    "    print('new annotation matches with the old\\nmerge annotation')\n",
    "    adata.obs = df_annotation\n",
    "else:\n",
    "    print('Annotation does not match')"
   ]
  },
  {
   "cell_type": "code",
   "execution_count": 6,
   "metadata": {},
   "outputs": [],
   "source": [
    "adata.obs['cell_ontology_class_old'] = adata.obs['cell_ontology_class']\n",
    "adata.obs['cell_ontology_class'] = adata.obs['cell_ontology_class_reannotated']\n",
    "adata.obs['free_annotation_old'] = adata.obs['free_annotation']\n",
    "adata.obs['free_annotation'] = adata.obs['free_annotation_reannotated']\n",
    "adata.obs['n_gene'] = (adata.X>0).sum(axis=1)"
   ]
  },
  {
   "cell_type": "code",
   "execution_count": 7,
   "metadata": {},
   "outputs": [
    {
     "name": "stdout",
     "output_type": "stream",
     "text": [
      "Mean sequencing depth 843523.7\n"
     ]
    }
   ],
   "source": [
    "# Mean depth\n",
    "print('Mean sequencing depth', adata.X.sum(axis=1).mean())"
   ]
  },
  {
   "cell_type": "markdown",
   "metadata": {},
   "source": [
    "## QC filtering"
   ]
  },
  {
   "cell_type": "code",
   "execution_count": 8,
   "metadata": {},
   "outputs": [
    {
     "name": "stdout",
     "output_type": "stream",
     "text": [
      "AnnData object with n_obs × n_vars = 164311 × 23341 \n",
      "    obs: 'FACS.selection', 'age', 'batch', 'cell', 'cell_ontology_class', 'cell_ontology_id', 'cellid', 'free_annotation', 'method', 'mouse.id', 'plate', 'sex', 'subtissue', 'tissue', 'well', 'cell_ontology_class_reannotated', 'free_annotation_reannotated', 'cell_ontology_class_old', 'free_annotation_old', 'n_gene'\n",
      "\n",
      "# remove genes expressed in less than 5 cells\n",
      "# remove cell expressing less than 500 genes\n",
      "AnnData object with n_obs × n_vars = 116690 × 22940 \n",
      "    obs: 'FACS.selection', 'age', 'batch', 'cell', 'cell_ontology_class', 'cell_ontology_id', 'cellid', 'free_annotation', 'method', 'mouse.id', 'plate', 'sex', 'subtissue', 'tissue', 'well', 'cell_ontology_class_reannotated', 'free_annotation_reannotated', 'cell_ontology_class_old', 'free_annotation_old', 'n_gene', 'n_genes'\n",
      "    var: 'n_cells'\n",
      "\n",
      "# remove cells whose \n",
      "\t1. Tissue annotation is nan\n",
      "\t2. n_counts is smaller than 5000\n",
      "View of AnnData object with n_obs × n_vars = 115563 × 22940 \n",
      "    obs: 'FACS.selection', 'age', 'batch', 'cell', 'cell_ontology_class', 'cell_ontology_id', 'cellid', 'free_annotation', 'method', 'mouse.id', 'plate', 'sex', 'subtissue', 'tissue', 'well', 'cell_ontology_class_reannotated', 'free_annotation_reannotated', 'cell_ontology_class_old', 'free_annotation_old', 'n_gene', 'n_genes', 'n_counts'\n",
      "    var: 'n_cells'\n"
     ]
    }
   ],
   "source": [
    "# Filter cells and genes\n",
    "print(adata)\n",
    "print(f'\\n# remove genes expressed in less than 5 cells')\n",
    "sc.pp.filter_genes(adata, min_cells=5)\n",
    "print(f'# remove cell expressing less than 500 genes')\n",
    "sc.pp.filter_cells(adata, min_genes=500)\n",
    "print(adata)\n",
    "print('\\n# remove cells whose \\n\\t1. Tissue annotation is nan'\n",
    "      + '\\n\\t2. n_counts is smaller than 5000')\n",
    "adata.obs['n_counts'] = np.sum(adata.X, axis=1).A1\n",
    "ind_select = (adata.obs['tissue']!='nan') & (adata.obs['age']!='nan') & \\\n",
    "            (adata.obs['n_counts']>=5000)\n",
    "adata = adata[ind_select,]\n",
    "print(adata)"
   ]
  },
  {
   "cell_type": "markdown",
   "metadata": {},
   "source": [
    "## Write the data"
   ]
  },
  {
   "cell_type": "code",
   "execution_count": 9,
   "metadata": {},
   "outputs": [
    {
     "name": "stderr",
     "output_type": "stream",
     "text": [
      "Trying to set attribute `.obs` of view, making a copy.\n",
      "... storing 'FACS.selection' as categorical\n",
      "Trying to set attribute `.obs` of view, making a copy.\n",
      "... storing 'age' as categorical\n",
      "Trying to set attribute `.obs` of view, making a copy.\n",
      "... storing 'cell' as categorical\n",
      "Trying to set attribute `.obs` of view, making a copy.\n",
      "... storing 'cell_ontology_class' as categorical\n",
      "Trying to set attribute `.obs` of view, making a copy.\n",
      "... storing 'cell_ontology_id' as categorical\n",
      "Trying to set attribute `.obs` of view, making a copy.\n",
      "... storing 'cellid' as categorical\n",
      "Trying to set attribute `.obs` of view, making a copy.\n",
      "... storing 'free_annotation' as categorical\n",
      "Trying to set attribute `.obs` of view, making a copy.\n",
      "... storing 'method' as categorical\n",
      "Trying to set attribute `.obs` of view, making a copy.\n",
      "... storing 'mouse.id' as categorical\n",
      "Trying to set attribute `.obs` of view, making a copy.\n",
      "... storing 'plate' as categorical\n",
      "Trying to set attribute `.obs` of view, making a copy.\n",
      "... storing 'sex' as categorical\n",
      "Trying to set attribute `.obs` of view, making a copy.\n",
      "... storing 'subtissue' as categorical\n",
      "Trying to set attribute `.obs` of view, making a copy.\n",
      "... storing 'tissue' as categorical\n",
      "Trying to set attribute `.obs` of view, making a copy.\n",
      "... storing 'well' as categorical\n",
      "Trying to set attribute `.obs` of view, making a copy.\n",
      "... storing 'cell_ontology_class_reannotated' as categorical\n",
      "Trying to set attribute `.obs` of view, making a copy.\n",
      "... storing 'free_annotation_reannotated' as categorical\n",
      "Trying to set attribute `.obs` of view, making a copy.\n",
      "... storing 'cell_ontology_class_old' as categorical\n",
      "Trying to set attribute `.obs` of view, making a copy.\n",
      "... storing 'free_annotation_old' as categorical\n"
     ]
    }
   ],
   "source": [
    "adata.write(f'{data_path}/facs_filtered.h5ad')"
   ]
  },
  {
   "cell_type": "markdown",
   "metadata": {},
   "source": [
    "### Sequencing depth for different ages (Supp Figure 1C)"
   ]
  },
  {
   "cell_type": "code",
   "execution_count": 11,
   "metadata": {},
   "outputs": [
    {
     "data": {
      "image/png": "[encoded data removed]",
      "text/plain": [
       "<Figure size 432x288 with 2 Axes>"
      ]
     },
     "metadata": {
      "needs_background": "light"
     },
     "output_type": "display_data"
    }
   ],
   "source": [
    "adata.obs['n_counts_mil'] = adata.obs['n_counts']/1e6\n",
    "\n",
    "plt.figure(figsize=[6,4])\n",
    "\n",
    "plt.subplot(121)\n",
    "sns.pointplot(x='age', y='n_counts_mil', data=adata.obs, order=['3m', '18m', '24m'])\n",
    "plt.ylabel('Average reads per cell (million, 95 CI)')\n",
    "plt.xlabel('Age')\n",
    "plt.grid(linestyle='--')\n",
    "\n",
    "plt.subplot(122)\n",
    "sns.pointplot(x='age', y='n_gene', data=adata.obs, order=['3m', '18m', '24m'])\n",
    "plt.ylabel('Average expressed genes per cell (95 CI)')\n",
    "plt.xlabel('Age')\n",
    "plt.grid(linestyle='--')\n",
    "plt.tight_layout()\n",
    "plt.savefig('/home/martin/maca/results/tms_gene_figure'\n",
    "            + '/qc_depth.pdf', transparent=True)\n",
    "plt.show()"
   ]
  },
  {
   "cell_type": "code",
   "execution_count": null,
   "metadata": {},
   "outputs": [],
   "source": []
  }
 ],
 "metadata": {
  "kernelspec": {
   "display_name": "Python 3",
   "language": "python",
   "name": "python3"
  },
  "language_info": {
   "codemirror_mode": {
    "name": "ipython",
    "version": 3
   },
   "file_extension": ".py",
   "mimetype": "text/x-python",
   "name": "python",
   "nbconvert_exporter": "python",
   "pygments_lexer": "ipython3",
   "version": "3.6.8"
  }
 },
 "nbformat": 4,
 "nbformat_minor": 2
}
