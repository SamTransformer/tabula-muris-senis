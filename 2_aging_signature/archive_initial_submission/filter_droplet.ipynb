{
 "cells": [
  {
   "cell_type": "code",
   "execution_count": 2,
   "metadata": {},
   "outputs": [
    {
     "name": "stdout",
     "output_type": "stream",
     "text": [
      "scanpy==1.4.3 anndata==0.6.20 umap==0.3.8 numpy==1.16.4 scipy==1.2.1 pandas==0.25.0 scikit-learn==0.21.1 statsmodels==0.9.0 python-igraph==0.7.1 louvain==0.6.1 \n"
     ]
    }
   ],
   "source": [
    "import pandas as pd\n",
    "import matplotlib.pyplot as plt\n",
    "import numpy as np\n",
    "import seaborn as sns\n",
    "import scanpy.api as sc\n",
    "# from anndata import read_loom\n",
    "from anndata import read_h5ad\n",
    "sc.logging.print_versions()"
   ]
  },
  {
   "cell_type": "code",
   "execution_count": 3,
   "metadata": {},
   "outputs": [],
   "source": [
    "# Data path\n",
    "data_path = '/data3/martin/tms_gene_data'"
   ]
  },
  {
   "cell_type": "code",
   "execution_count": 5,
   "metadata": {},
   "outputs": [],
   "source": [
    "# Raw data\n",
    "adata = read_h5ad(f\"{data_path}/maca-droplet-raw-data-annotated.h5ad\")"
   ]
  },
  {
   "cell_type": "code",
   "execution_count": 6,
   "metadata": {},
   "outputs": [
    {
     "name": "stdout",
     "output_type": "stream",
     "text": [
      "Mean sequencing depth 6109.0303\n"
     ]
    }
   ],
   "source": [
    "# Mean depth\n",
    "print('Mean sequencing depth', adata.X.sum(axis=1).mean())"
   ]
  },
  {
   "cell_type": "markdown",
   "metadata": {},
   "source": [
    "## QC filtering"
   ]
  },
  {
   "cell_type": "code",
   "execution_count": 7,
   "metadata": {},
   "outputs": [
    {
     "name": "stdout",
     "output_type": "stream",
     "text": [
      "AnnData object with n_obs × n_vars = 418908 × 23433 \n",
      "    obs: 'age', 'batch', 'cell', 'cell_ontology_class', 'cell_ontology_id', 'free_annotation', 'method', 'mouse.id', 'n_genes', 'sex', 'subtissue', 'tissue', 'tissue_free_annotation'\n",
      "\n",
      "# remove genes expressed in less than 5 cells\n",
      "# remove cell expressing less than 500 genes\n",
      "AnnData object with n_obs × n_vars = 345454 × 19861 \n",
      "    obs: 'age', 'batch', 'cell', 'cell_ontology_class', 'cell_ontology_id', 'free_annotation', 'method', 'mouse.id', 'n_genes', 'sex', 'subtissue', 'tissue', 'tissue_free_annotation'\n",
      "    var: 'n_cells'\n",
      "\n",
      "# remove cells whose \n",
      "\t1. Tissue annotation is nan\n",
      "\t2. n_counts is smaller than 1000\n",
      "View of AnnData object with n_obs × n_vars = 235325 × 19861 \n",
      "    obs: 'age', 'batch', 'cell', 'cell_ontology_class', 'cell_ontology_id', 'free_annotation', 'method', 'mouse.id', 'n_genes', 'sex', 'subtissue', 'tissue', 'tissue_free_annotation', 'n_counts'\n",
      "    var: 'n_cells'\n"
     ]
    }
   ],
   "source": [
    "# Filter cells and genes\n",
    "print(adata)\n",
    "print(f'\\n# remove genes expressed in less than 5 cells')\n",
    "sc.pp.filter_genes(adata, min_cells=5)\n",
    "print(f'# remove cell expressing less than 500 genes')\n",
    "sc.pp.filter_cells(adata, min_genes=500)\n",
    "print(adata)\n",
    "print('\\n# remove cells whose \\n\\t1. Tissue annotation is nan'\n",
    "      + '\\n\\t2. n_counts is smaller than 1000')\n",
    "adata.obs['n_counts'] = np.sum(adata.X, axis=1).A1\n",
    "ind_select = (adata.obs['tissue']!='nan') & (adata.obs['age']!='nan') & \\\n",
    "            (adata.obs['n_counts']>=3000)\n",
    "adata = adata[ind_select,]\n",
    "print(adata)"
   ]
  },
  {
   "cell_type": "markdown",
   "metadata": {},
   "source": [
    "## Write the data"
   ]
  },
  {
   "cell_type": "code",
   "execution_count": 8,
   "metadata": {},
   "outputs": [],
   "source": [
    "adata.write(f'{data_path}/droplet_filtered.h5ad')"
   ]
  }
 ],
 "metadata": {
  "kernelspec": {
   "display_name": "Python 3",
   "language": "python",
   "name": "python3"
  },
  "language_info": {
   "codemirror_mode": {
    "name": "ipython",
    "version": 3
   },
   "file_extension": ".py",
   "mimetype": "text/x-python",
   "name": "python",
   "nbconvert_exporter": "python",
   "pygments_lexer": "ipython3",
   "version": "3.6.8"
  }
 },
 "nbformat": 4,
 "nbformat_minor": 2
}
