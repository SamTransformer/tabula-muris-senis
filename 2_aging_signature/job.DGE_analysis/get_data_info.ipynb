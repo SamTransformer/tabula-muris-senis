{
 "cells": [
  {
   "cell_type": "code",
   "execution_count": 1,
   "metadata": {},
   "outputs": [
    {
     "name": "stderr",
     "output_type": "stream",
     "text": [
      "/home/jz286/myenv/lib/python3.7/site-packages/scanpy/api/__init__.py:6: FutureWarning: \n",
      "\n",
      "In a future version of Scanpy, `scanpy.api` will be removed.\n",
      "Simply use `import scanpy as sc` and `import scanpy.external as sce` instead.\n",
      "\n",
      "  FutureWarning\n"
     ]
    }
   ],
   "source": [
    "import numpy as np\n",
    "import pandas as pd\n",
    "import scanpy.api as sc\n",
    "import anndata\n",
    "from anndata import AnnData\n",
    "import sys\n",
    "sys.path.insert(1, '../')\n",
    "import util\n",
    "from itertools import product\n",
    "\n",
    "# autoreload\n",
    "%load_ext autoreload\n",
    "%autoreload 2\n",
    "\n",
    "# \n",
    "import anndata2ri\n",
    "anndata2ri.activate()\n",
    "%load_ext rpy2.ipython"
   ]
  },
  {
   "cell_type": "code",
   "execution_count": 2,
   "metadata": {},
   "outputs": [],
   "source": [
    "# Data path\n",
    "data_path = '/n/groups/price/martin/tms_gene_data'\n",
    "output_folder = data_path + '/DGE_result'\n",
    "output_data_folder = data_path + '/rds_by_tissue.1e4'\n",
    "output_raw_adata_folder = data_path + '/raw_adata_by_tissue'\n",
    "# output_data_folder_tmp = data_path + '/rds_by_tissue.1e4'"
   ]
  },
  {
   "cell_type": "markdown",
   "metadata": {},
   "source": [
    "### bulk data"
   ]
  },
  {
   "cell_type": "code",
   "execution_count": 8,
   "metadata": {},
   "outputs": [
    {
     "name": "stderr",
     "output_type": "stream",
     "text": [
      "Trying to set attribute `.obs` of view, copying.\n"
     ]
    }
   ],
   "source": [
    "temp_data = util.load_normalized_data_bulk(data_path)"
   ]
  },
  {
   "cell_type": "code",
   "execution_count": 9,
   "metadata": {},
   "outputs": [],
   "source": [
    "tissue_list = list(set(temp_data.obs['tissue']))\n",
    "tissue_list.sort()\n",
    "df_info = pd.DataFrame(index=tissue_list, columns=['n_sample', 'n_sample_young', 'n_sample_old'], data=0)\n",
    "for tissue in tissue_list:\n",
    "    ind_select = (temp_data.obs['tissue'] == tissue)\n",
    "    df_info.loc[tissue, 'n_sample'] = ind_select.sum()\n",
    "    df_info.loc[tissue, 'n_sample_young'] = (temp_data.obs['age_num'][ind_select]<10).sum()\n",
    "    df_info.loc[tissue, 'n_sample_old'] = (temp_data.obs['age_num'][ind_select]>10).sum()\n",
    "df_info.to_csv(output_folder + '/bulk.tissue_info', sep=' ')\n",
    "with open(output_folder + '/bulk.tissue_list', 'w') as f:\n",
    "    for tissue in df_info.index:\n",
    "        f.write('%s\\n'%tissue)"
   ]
  },
  {
   "cell_type": "code",
   "execution_count": 10,
   "metadata": {},
   "outputs": [
    {
     "name": "stdout",
     "output_type": "stream",
     "text": [
      "[1] \"/n/groups/price/martin/tms_gene_data/rds_by_tissue.tpm/bulk.normalized.Bone.rds\"\n",
      "[1] \"/n/groups/price/martin/tms_gene_data/rds_by_tissue.tpm/bulk.normalized.Brain.rds\"\n",
      "[1] \"/n/groups/price/martin/tms_gene_data/rds_by_tissue.tpm/bulk.normalized.Brown_Fat.rds\"\n",
      "[1] \"/n/groups/price/martin/tms_gene_data/rds_by_tissue.tpm/bulk.normalized.Gonadal_Fat.rds\"\n",
      "[1] \"/n/groups/price/martin/tms_gene_data/rds_by_tissue.tpm/bulk.normalized.Heart.rds\"\n",
      "[1] \"/n/groups/price/martin/tms_gene_data/rds_by_tissue.tpm/bulk.normalized.Kidney.rds\"\n",
      "[1] \"/n/groups/price/martin/tms_gene_data/rds_by_tissue.tpm/bulk.normalized.Limb_Muscle.rds\"\n",
      "[1] \"/n/groups/price/martin/tms_gene_data/rds_by_tissue.tpm/bulk.normalized.Liver.rds\"\n",
      "[1] \"/n/groups/price/martin/tms_gene_data/rds_by_tissue.tpm/bulk.normalized.Lung.rds\"\n",
      "[1] \"/n/groups/price/martin/tms_gene_data/rds_by_tissue.tpm/bulk.normalized.Marrow.rds\"\n",
      "[1] \"/n/groups/price/martin/tms_gene_data/rds_by_tissue.tpm/bulk.normalized.Mesenteric_Fat.rds\"\n",
      "[1] \"/n/groups/price/martin/tms_gene_data/rds_by_tissue.tpm/bulk.normalized.Pancreas.rds\"\n",
      "[1] \"/n/groups/price/martin/tms_gene_data/rds_by_tissue.tpm/bulk.normalized.Skin.rds\"\n",
      "[1] \"/n/groups/price/martin/tms_gene_data/rds_by_tissue.tpm/bulk.normalized.Small_Intestine.rds\"\n",
      "[1] \"/n/groups/price/martin/tms_gene_data/rds_by_tissue.tpm/bulk.normalized.Spleen.rds\"\n",
      "[1] \"/n/groups/price/martin/tms_gene_data/rds_by_tissue.tpm/bulk.normalized.Subcutaneous_Fat.rds\"\n",
      "[1] \"/n/groups/price/martin/tms_gene_data/rds_by_tissue.tpm/bulk.normalized.White_Blood_Cells.rds\"\n"
     ]
    }
   ],
   "source": [
    "# write normalized bulk data \n",
    "for tissue in tissue_list:\n",
    "    ind_select = (temp_data.obs['tissue'] == tissue)\n",
    "    temp = temp_data[ind_select]\n",
    "    fil = output_data_folder_tmp+'/bulk.normalized.%s.rds'%tissue\n",
    "    get_ipython().run_cell_magic(u'R', u'-i temp -i fil', \"print(fil)\\nsaveRDS(temp, fil)\")\n",
    "#     break"
   ]
  },
  {
   "cell_type": "code",
   "execution_count": 17,
   "metadata": {},
   "outputs": [
    {
     "name": "stderr",
     "output_type": "stream",
     "text": [
      "Trying to set attribute `.X` of view, copying.\n"
     ]
    },
    {
     "name": "stdout",
     "output_type": "stream",
     "text": [
      "[1] \"/n/groups/price/martin/tms_gene_data/adata_by_tissue/toy.rds\"\n"
     ]
    }
   ],
   "source": [
    "# # write normalized bulk data \n",
    "# tissue = 'Bone'\n",
    "# ind_select = (temp_data.obs['tissue'] == tissue)\n",
    "# temp = temp_data[ind_select]\n",
    "\n",
    "# np.random.seed(0)\n",
    "# temp = temp[:, 0:4]\n",
    "# temp.X[:,0] = (temp.obs['sex'] == 'male')*1 + np.random.randn(temp.shape[0]) * 0.1\n",
    "# temp.X[:,1] = temp.obs['age_num']*2 + np.random.randn(temp.shape[0]) * 0.1\n",
    "# temp.X[:,2] = (temp.obs['sex'] == 'male')*1 + temp.obs['age_num']*2 + np.random.randn(temp.shape[0]) * 0.1\n",
    "# temp.X[:,3] = np.random.randn(temp.shape[0]) * 0.1\n",
    "\n",
    "# fil = output_data_folder+'/toy.rds'\n",
    "# get_ipython().run_cell_magic(u'R', u'-i temp -i fil', \"print(fil)\\nsaveRDS(temp, fil)\")\n",
    "# #     break"
   ]
  },
  {
   "cell_type": "markdown",
   "metadata": {},
   "source": [
    "### FACS and droplet data"
   ]
  },
  {
   "cell_type": "code",
   "execution_count": 4,
   "metadata": {
    "scrolled": true
   },
   "outputs": [
    {
     "name": "stderr",
     "output_type": "stream",
     "text": [
      "Trying to set attribute `.obs` of view, copying.\n"
     ]
    }
   ],
   "source": [
    "dname_list = ['facs', 'facs_old', 'droplet', 'droplet_old']\n",
    "for dname in dname_list:\n",
    "    temp_data = util.load_normalized_data(data_path, data_name=dname,\n",
    "                                          flag_size_factor = False,\n",
    "                                          flag_log1p = False)\n",
    "    \n",
    "    if 'facs' in dname:\n",
    "        min_cell_number = 25\n",
    "    elif 'droplet' in dname:\n",
    "        min_cell_number = 100\n",
    "    \n",
    "    # tissue_level\n",
    "    tissue_list = list(set(temp_data.obs['tissue']))\n",
    "    tissue_list.sort()\n",
    "    df_info = pd.DataFrame(columns=['n_cell', 'n_cell_young', 'n_cell_old'])\n",
    "    for tissue in tissue_list:\n",
    "        ind_select = (temp_data.obs['tissue'] == tissue)\n",
    "        \n",
    "        n_cell = ind_select.sum()\n",
    "        n_young = (temp_data.obs['age_num'][ind_select]<10).sum()\n",
    "        n_old = (temp_data.obs['age_num'][ind_select]>10).sum()\n",
    "        \n",
    "        if (n_young>min_cell_number) & (n_old>min_cell_number):\n",
    "            df_info.loc[tissue] = [n_cell, n_young, n_old]\n",
    "    ind_list = list(df_info.index)\n",
    "    ind_list.sort()\n",
    "    df_info = df_info.loc[ind_list]\n",
    "    df_info.to_csv(output_folder + '/%s.tissue_info'%dname, sep=' ')\n",
    "    with open(output_folder + '/%s.tissue_list'%dname, 'w') as f:\n",
    "        for tissue in df_info.index:\n",
    "            f.write('%s\\n'%tissue)\n",
    "            \n",
    "    # tissue_celltype level \n",
    "    cell_type_list = list(set(temp_data.obs['cell_ontology_class']))\n",
    "    cell_type_list.sort()\n",
    "    df_info = pd.DataFrame(columns=['n_cell', 'n_cell_young', 'n_cell_old'])\n",
    "    for tissue,cell_type in product(tissue_list, cell_type_list):\n",
    "        analyte = '%s.%s'%(tissue,cell_type)\n",
    "        ind_select = (temp_data.obs['cell_ontology_class'] == cell_type) & \\\n",
    "                        (temp_data.obs['tissue'] == tissue)\n",
    "        n_cell = ind_select.sum()\n",
    "        n_young = (temp_data.obs['age_num'][ind_select]<10).sum()\n",
    "        n_old = (temp_data.obs['age_num'][ind_select]>10).sum()\n",
    "        \n",
    "        if (n_young>min_cell_number) & (n_old>min_cell_number) & (cell_type!='nan'):\n",
    "            df_info.loc[analyte] = [n_cell, n_young, n_old]\n",
    "    ind_list = list(df_info.index)\n",
    "    ind_list.sort()\n",
    "    df_info = df_info.loc[ind_list]\n",
    "    df_info.to_csv(output_folder + '/%s.tc_info'%dname, sep=' ')\n",
    "    with open(output_folder + '/%s.tc_list'%dname, 'w') as f:\n",
    "        for tissue in df_info.index:\n",
    "            f.write('%s\\n'%tissue)"
   ]
  },
  {
   "cell_type": "code",
   "execution_count": 3,
   "metadata": {},
   "outputs": [
    {
     "name": "stderr",
     "output_type": "stream",
     "text": [
      "Trying to set attribute `.obs` of view, copying.\n"
     ]
    },
    {
     "name": "stdout",
     "output_type": "stream",
     "text": [
      "[1] \"/n/groups/price/martin/tms_gene_data/rds_by_tissue.1e4/facs.normalized.Aorta.rds\"\n",
      "[1] \"/n/groups/price/martin/tms_gene_data/rds_by_tissue.1e4/facs.normalized.BAT.rds\"\n",
      "[1] \"/n/groups/price/martin/tms_gene_data/rds_by_tissue.1e4/facs.normalized.Bladder.rds\"\n",
      "[1] \"/n/groups/price/martin/tms_gene_data/rds_by_tissue.1e4/facs.normalized.Brain_Myeloid.rds\"\n",
      "[1] \"/n/groups/price/martin/tms_gene_data/rds_by_tissue.1e4/facs.normalized.Brain_Non-Myeloid.rds\"\n",
      "[1] \"/n/groups/price/martin/tms_gene_data/rds_by_tissue.1e4/facs.normalized.Diaphragm.rds\"\n",
      "[1] \"/n/groups/price/martin/tms_gene_data/rds_by_tissue.1e4/facs.normalized.GAT.rds\"\n",
      "[1] \"/n/groups/price/martin/tms_gene_data/rds_by_tissue.1e4/facs.normalized.Heart.rds\"\n",
      "[1] \"/n/groups/price/martin/tms_gene_data/rds_by_tissue.1e4/facs.normalized.Kidney.rds\"\n",
      "[1] \"/n/groups/price/martin/tms_gene_data/rds_by_tissue.1e4/facs.normalized.Large_Intestine.rds\"\n",
      "[1] \"/n/groups/price/martin/tms_gene_data/rds_by_tissue.1e4/facs.normalized.Limb_Muscle.rds\"\n",
      "[1] \"/n/groups/price/martin/tms_gene_data/rds_by_tissue.1e4/facs.normalized.Liver.rds\"\n",
      "[1] \"/n/groups/price/martin/tms_gene_data/rds_by_tissue.1e4/facs.normalized.Lung.rds\"\n",
      "[1] \"/n/groups/price/martin/tms_gene_data/rds_by_tissue.1e4/facs.normalized.MAT.rds\"\n",
      "[1] \"/n/groups/price/martin/tms_gene_data/rds_by_tissue.1e4/facs.normalized.Mammary_Gland.rds\"\n",
      "[1] \"/n/groups/price/martin/tms_gene_data/rds_by_tissue.1e4/facs.normalized.Marrow.rds\"\n",
      "[1] \"/n/groups/price/martin/tms_gene_data/rds_by_tissue.1e4/facs.normalized.Pancreas.rds\"\n",
      "[1] \"/n/groups/price/martin/tms_gene_data/rds_by_tissue.1e4/facs.normalized.SCAT.rds\"\n",
      "[1] \"/n/groups/price/martin/tms_gene_data/rds_by_tissue.1e4/facs.normalized.Skin.rds\"\n",
      "[1] \"/n/groups/price/martin/tms_gene_data/rds_by_tissue.1e4/facs.normalized.Spleen.rds\"\n",
      "[1] \"/n/groups/price/martin/tms_gene_data/rds_by_tissue.1e4/facs.normalized.Thymus.rds\"\n",
      "[1] \"/n/groups/price/martin/tms_gene_data/rds_by_tissue.1e4/facs.normalized.Tongue.rds\"\n",
      "[1] \"/n/groups/price/martin/tms_gene_data/rds_by_tissue.1e4/facs.normalized.Trachea.rds\"\n",
      "[1] \"/n/groups/price/martin/tms_gene_data/rds_by_tissue.1e4/droplet.normalized.Bladder.rds\"\n",
      "[1] \"/n/groups/price/martin/tms_gene_data/rds_by_tissue.1e4/droplet.normalized.Fat.rds\"\n",
      "[1] \"/n/groups/price/martin/tms_gene_data/rds_by_tissue.1e4/droplet.normalized.Heart_and_Aorta.rds\"\n",
      "[1] \"/n/groups/price/martin/tms_gene_data/rds_by_tissue.1e4/droplet.normalized.Kidney.rds\"\n",
      "[1] \"/n/groups/price/martin/tms_gene_data/rds_by_tissue.1e4/droplet.normalized.Large_Intestine.rds\"\n",
      "[1] \"/n/groups/price/martin/tms_gene_data/rds_by_tissue.1e4/droplet.normalized.Limb_Muscle.rds\"\n",
      "[1] \"/n/groups/price/martin/tms_gene_data/rds_by_tissue.1e4/droplet.normalized.Liver.rds\"\n",
      "[1] \"/n/groups/price/martin/tms_gene_data/rds_by_tissue.1e4/droplet.normalized.Lung.rds\"\n",
      "[1] \"/n/groups/price/martin/tms_gene_data/rds_by_tissue.1e4/droplet.normalized.Mammary_Gland.rds\"\n",
      "[1] \"/n/groups/price/martin/tms_gene_data/rds_by_tissue.1e4/droplet.normalized.Marrow.rds\"\n",
      "[1] \"/n/groups/price/martin/tms_gene_data/rds_by_tissue.1e4/droplet.normalized.Pancreas.rds\"\n",
      "[1] \"/n/groups/price/martin/tms_gene_data/rds_by_tissue.1e4/droplet.normalized.Skin.rds\"\n",
      "[1] \"/n/groups/price/martin/tms_gene_data/rds_by_tissue.1e4/droplet.normalized.Spleen.rds\"\n",
      "[1] \"/n/groups/price/martin/tms_gene_data/rds_by_tissue.1e4/droplet.normalized.Thymus.rds\"\n",
      "[1] \"/n/groups/price/martin/tms_gene_data/rds_by_tissue.1e4/droplet.normalized.Tongue.rds\"\n",
      "[1] \"/n/groups/price/martin/tms_gene_data/rds_by_tissue.1e4/droplet.normalized.Trachea.rds\"\n"
     ]
    }
   ],
   "source": [
    "# dname_list = ['facs', 'facs_old', 'droplet', 'droplet_old']\n",
    "dname_list = ['facs', 'droplet']\n",
    "for dname in dname_list:\n",
    "    temp_data = util.load_normalized_data(data_path, data_name=dname,\n",
    "                                          flag_size_factor=True,\n",
    "                                          total_ct_per_cell=1e4, \n",
    "                                          flag_log1p=True)\n",
    "    temp_data.obs['n_genes'] = (temp_data.X>0).sum(axis=1)\n",
    "    \n",
    "    tissue_list = list(set(temp_data.obs['tissue']))\n",
    "    tissue_list.sort()\n",
    "    \n",
    "    # save the data by tissue \n",
    "    for tissue in tissue_list:\n",
    "        ind_select = (temp_data.obs['tissue'] == tissue)\n",
    "        temp = temp_data[ind_select]\n",
    "        fil = output_data_folder+'/%s.normalized.%s.rds'%(dname, tissue)\n",
    "#         fil = output_data_folder_tmp+'/%s.normalized.%s.rds'%(dname, tissue)\n",
    "        get_ipython().run_cell_magic(u'R', u'-i temp -i fil', \"print(fil)\\nsaveRDS(temp, fil)\")\n"
   ]
  },
  {
   "cell_type": "code",
   "execution_count": null,
   "metadata": {},
   "outputs": [],
   "source": []
  },
  {
   "cell_type": "code",
   "execution_count": 26,
   "metadata": {},
   "outputs": [
    {
     "name": "stderr",
     "output_type": "stream",
     "text": [
      "Trying to set attribute `.obs` of view, copying.\n"
     ]
    }
   ],
   "source": [
    "# Store raw adata by tissue\n",
    "dname_list = ['facs', 'droplet']\n",
    "for dname in dname_list:\n",
    "    temp_data = util.load_normalized_data(data_path, data_name=dname,\n",
    "                                          flag_size_factor = False,\n",
    "                                          flag_log1p=False)\n",
    "    \n",
    "    # tissue_level\n",
    "    tissue_list = list(set(temp_data.obs['tissue']))\n",
    "    tissue_list.sort()\n",
    "    \n",
    "    # save the data by tissue \n",
    "    for tissue in tissue_list:\n",
    "        ind_select = (temp_data.obs['tissue'] == tissue)\n",
    "        temp = temp_data[ind_select]\n",
    "        fil = output_raw_adata_folder+'/%s.raw.%s.h5ad'%(dname, tissue)\n",
    "        temp.write(fil)\n",
    "#         break"
   ]
  }
 ],
 "metadata": {
  "kernelspec": {
   "display_name": "Python 3",
   "language": "python",
   "name": "python3"
  },
  "language_info": {
   "codemirror_mode": {
    "name": "ipython",
    "version": 3
   },
   "file_extension": ".py",
   "mimetype": "text/x-python",
   "name": "python",
   "nbconvert_exporter": "python",
   "pygments_lexer": "ipython3",
   "version": "3.7.4"
  }
 },
 "nbformat": 4,
 "nbformat_minor": 2
}
